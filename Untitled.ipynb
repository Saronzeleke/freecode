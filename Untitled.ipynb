{
 "cells": [
  {
   "cell_type": "code",
   "execution_count": 33,
   "id": "3a2e7c0d-c7f0-42e6-b097-c110c34c1f4c",
   "metadata": {},
   "outputs": [],
   "source": [
    "import numpy as np\n",
    "\n"
   ]
  },
  {
   "cell_type": "code",
   "execution_count": 34,
   "id": "63ff379c-495d-495b-aa85-a3ed2c2b34ce",
   "metadata": {},
   "outputs": [],
   "source": [
    "\n",
    "import matplotlib.pyplot as plt\n"
   ]
  },
  {
   "cell_type": "code",
   "execution_count": 37,
   "id": "495f0bbf-36b8-4ea5-bc23-ec19d2643bf9",
   "metadata": {},
   "outputs": [],
   "source": [
    "from collections import Counter\n"
   ]
  },
  {
   "cell_type": "code",
   "execution_count": null,
   "id": "51adcf28-b6dc-4395-b527-9e811f1b1f43",
   "metadata": {},
   "outputs": [],
   "source": [
    "from RPS_game import play, quincy, kris, abbey, random_player\n"
   ]
  },
  {
   "cell_type": "code",
   "execution_count": 6,
   "id": "886f0328-4f4a-4997-8a70-00e367d92883",
   "metadata": {},
   "outputs": [],
   "source": [
    "def player(prev_play, opponent_history=[]):\n",
    "    \"\"\"Adaptive Rock Paper Scissors bot that predicts opponent moves.\"\"\"\n",
    "    \n",
    "    # Store opponent's move history\n",
    "    if prev_play:\n",
    "        opponent_history.append(prev_play)\n",
    "\n",
    "    # If no history, pick randomly\n",
    "    if not opponent_history:\n",
    "        return random.choice([\"R\", \"P\", \"S\"])\n",
    "\n",
    "    # Strategy: Counter Opponent's Most Frequent Move\n",
    "    most_common = Counter(opponent_history).most_common(1)[0][0]\n",
    "    counter_moves = {\"R\": \"P\", \"P\": \"S\", \"S\": \"R\"}\n",
    "    \n",
    "    return counter_moves[most_common]"
   ]
  },
  {
   "cell_type": "code",
   "execution_count": 13,
   "id": "d607aa61-8574-4348-abd1-bf69ad3a66ec",
   "metadata": {},
   "outputs": [],
   "source": [
    "# Function to simulate a match\n",
    "def play_game(player1, player2, num_games=1000):\n",
    "    \"\"\"Plays Rock Paper Scissors and calculates win rate.\"\"\"\n",
    "    "
   ]
  },
  {
   "cell_type": "code",
   "execution_count": 30,
   "id": "49d74f4a-3c98-45fe-b382-65f1e65c36ac",
   "metadata": {},
   "outputs": [],
   "source": [
    "def play_game(player1, player2, num_games=1000):\n",
    "    \"\"\"Plays Rock Paper Scissors and calculates win rate.\"\"\"\n",
    "    moves = {\"R\": \"Rock\", \"P\": \"Paper\", \"S\": \"Scissors\"}\n",
    "    \n",
    "    p1_wins, p2_wins, ties = 0, 0, 0\n",
    "    p1_prev, p2_prev = \"\", \"\"\n",
    "    p1_history, p2_history = [], []\n",
    "    \n",
    "    for _ in range(num_games):\n",
    "        move1 = player1(p2_prev, p2_history)\n",
    "        move2 = player2(p1_prev, p1_history)\n",
    "        \n",
    "        p1_history.append(move1)\n",
    "        p2_history.append(move2)\n",
    "        \n",
    "        # Determine the winner\n",
    "        if move1 == move2:\n",
    "            ties += 1\n",
    "        elif (move1, move2) in [(\"R\", \"S\"), (\"P\", \"R\"), (\"S\", \"P\")]:\n",
    "            p1_wins += 1\n",
    "        else:\n",
    "            p2_wins += 1\n",
    "\n",
    "        p1_prev, p2_prev = move1, move2\n",
    "\n",
    "    # Print results\n",
    "    print(f\"Player 1 Wins: {p1_wins / num_games * 100:.2f}%\")\n",
    "    print(f\"Player 2 Wins: {p2_wins / num_games * 100:.2f}%\")\n",
    "    print(f\"Ties: {ties / num_games * 100:.2f}%\")\n"
   ]
  },
  {
   "cell_type": "code",
   "execution_count": 31,
   "id": "a72bf1c5-125a-43a7-bef1-1f98867bdfc8",
   "metadata": {},
   "outputs": [
    {
     "name": "stdout",
     "output_type": "stream",
     "text": [
      "Player 1 Wins: 99.90%\n",
      "Player 2 Wins: 0.10%\n",
      "Ties: 0.00%\n"
     ]
    }
   ],
   "source": [
    "# Sample Opponent: A bot that plays \"Rock\" every time\n",
    "def rock_bot(prev_play, opponent_history=[]):\n",
    "    return \"R\"\n",
    "\n",
    "# Run simulation\n",
    "play_game(player, rock_bot, num_games=1000)"
   ]
  },
  {
   "cell_type": "code",
   "execution_count": null,
   "id": "f1891bc2-c1fb-43d4-8f6e-ad2c18fc2646",
   "metadata": {},
   "outputs": [],
   "source": []
  }
 ],
 "metadata": {
  "kernelspec": {
   "display_name": "Python 3 (ipykernel)",
   "language": "python",
   "name": "python3"
  },
  "language_info": {
   "codemirror_mode": {
    "name": "ipython",
    "version": 3
   },
   "file_extension": ".py",
   "mimetype": "text/x-python",
   "name": "python",
   "nbconvert_exporter": "python",
   "pygments_lexer": "ipython3",
   "version": "3.12.3"
  }
 },
 "nbformat": 4,
 "nbformat_minor": 5
}
